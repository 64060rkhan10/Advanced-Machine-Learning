{
  "nbformat": 4,
  "nbformat_minor": 0,
  "metadata": {
    "colab": {
      "provenance": []
    },
    "kernelspec": {
      "name": "python3",
      "display_name": "Python 3"
    },
    "language_info": {
      "name": "python"
    },
    "widgets": {
      "application/vnd.jupyter.widget-state+json": {
        "542d77e3f0b04abeae1ffe09227e0fd2": {
          "model_module": "@jupyter-widgets/controls",
          "model_name": "HBoxModel",
          "model_module_version": "1.5.0",
          "state": {
            "_dom_classes": [],
            "_model_module": "@jupyter-widgets/controls",
            "_model_module_version": "1.5.0",
            "_model_name": "HBoxModel",
            "_view_count": null,
            "_view_module": "@jupyter-widgets/controls",
            "_view_module_version": "1.5.0",
            "_view_name": "HBoxView",
            "box_style": "",
            "children": [
              "IPY_MODEL_cd9075f1ad004098963f88a9eeff9e32",
              "IPY_MODEL_454f30b800ec4f22adc1a3fc0adf7944",
              "IPY_MODEL_406aa534ae3c498f95dd75c76ecb7f7d"
            ],
            "layout": "IPY_MODEL_2566f61a677c418eb1ed280aaf6bbd3d"
          }
        },
        "cd9075f1ad004098963f88a9eeff9e32": {
          "model_module": "@jupyter-widgets/controls",
          "model_name": "HTMLModel",
          "model_module_version": "1.5.0",
          "state": {
            "_dom_classes": [],
            "_model_module": "@jupyter-widgets/controls",
            "_model_module_version": "1.5.0",
            "_model_name": "HTMLModel",
            "_view_count": null,
            "_view_module": "@jupyter-widgets/controls",
            "_view_module_version": "1.5.0",
            "_view_name": "HTMLView",
            "description": "",
            "description_tooltip": null,
            "layout": "IPY_MODEL_b056e767a4c845debe94a2208e363882",
            "placeholder": "​",
            "style": "IPY_MODEL_451f32a19dea4d748fac92ba4d7ec2ac",
            "value": "Downloading: 100%"
          }
        },
        "454f30b800ec4f22adc1a3fc0adf7944": {
          "model_module": "@jupyter-widgets/controls",
          "model_name": "FloatProgressModel",
          "model_module_version": "1.5.0",
          "state": {
            "_dom_classes": [],
            "_model_module": "@jupyter-widgets/controls",
            "_model_module_version": "1.5.0",
            "_model_name": "FloatProgressModel",
            "_view_count": null,
            "_view_module": "@jupyter-widgets/controls",
            "_view_module_version": "1.5.0",
            "_view_name": "ProgressView",
            "bar_style": "success",
            "description": "",
            "description_tooltip": null,
            "layout": "IPY_MODEL_1b2efc327e884969b59c1953f193070f",
            "max": 1199,
            "min": 0,
            "orientation": "horizontal",
            "style": "IPY_MODEL_dc8b59e6edb445a0acf25d6e1264661e",
            "value": 1199
          }
        },
        "406aa534ae3c498f95dd75c76ecb7f7d": {
          "model_module": "@jupyter-widgets/controls",
          "model_name": "HTMLModel",
          "model_module_version": "1.5.0",
          "state": {
            "_dom_classes": [],
            "_model_module": "@jupyter-widgets/controls",
            "_model_module_version": "1.5.0",
            "_model_name": "HTMLModel",
            "_view_count": null,
            "_view_module": "@jupyter-widgets/controls",
            "_view_module_version": "1.5.0",
            "_view_name": "HTMLView",
            "description": "",
            "description_tooltip": null,
            "layout": "IPY_MODEL_a484c0ea75124a9092f99d6e8fcab78e",
            "placeholder": "​",
            "style": "IPY_MODEL_2930d2be3b5646cda46a0d658c1e96f5",
            "value": " 1.20k/1.20k [00:00&lt;00:00, 8.95kB/s]"
          }
        },
        "2566f61a677c418eb1ed280aaf6bbd3d": {
          "model_module": "@jupyter-widgets/base",
          "model_name": "LayoutModel",
          "model_module_version": "1.2.0",
          "state": {
            "_model_module": "@jupyter-widgets/base",
            "_model_module_version": "1.2.0",
            "_model_name": "LayoutModel",
            "_view_count": null,
            "_view_module": "@jupyter-widgets/base",
            "_view_module_version": "1.2.0",
            "_view_name": "LayoutView",
            "align_content": null,
            "align_items": null,
            "align_self": null,
            "border": null,
            "bottom": null,
            "display": null,
            "flex": null,
            "flex_flow": null,
            "grid_area": null,
            "grid_auto_columns": null,
            "grid_auto_flow": null,
            "grid_auto_rows": null,
            "grid_column": null,
            "grid_gap": null,
            "grid_row": null,
            "grid_template_areas": null,
            "grid_template_columns": null,
            "grid_template_rows": null,
            "height": null,
            "justify_content": null,
            "justify_items": null,
            "left": null,
            "margin": null,
            "max_height": null,
            "max_width": null,
            "min_height": null,
            "min_width": null,
            "object_fit": null,
            "object_position": null,
            "order": null,
            "overflow": null,
            "overflow_x": null,
            "overflow_y": null,
            "padding": null,
            "right": null,
            "top": null,
            "visibility": null,
            "width": null
          }
        },
        "b056e767a4c845debe94a2208e363882": {
          "model_module": "@jupyter-widgets/base",
          "model_name": "LayoutModel",
          "model_module_version": "1.2.0",
          "state": {
            "_model_module": "@jupyter-widgets/base",
            "_model_module_version": "1.2.0",
            "_model_name": "LayoutModel",
            "_view_count": null,
            "_view_module": "@jupyter-widgets/base",
            "_view_module_version": "1.2.0",
            "_view_name": "LayoutView",
            "align_content": null,
            "align_items": null,
            "align_self": null,
            "border": null,
            "bottom": null,
            "display": null,
            "flex": null,
            "flex_flow": null,
            "grid_area": null,
            "grid_auto_columns": null,
            "grid_auto_flow": null,
            "grid_auto_rows": null,
            "grid_column": null,
            "grid_gap": null,
            "grid_row": null,
            "grid_template_areas": null,
            "grid_template_columns": null,
            "grid_template_rows": null,
            "height": null,
            "justify_content": null,
            "justify_items": null,
            "left": null,
            "margin": null,
            "max_height": null,
            "max_width": null,
            "min_height": null,
            "min_width": null,
            "object_fit": null,
            "object_position": null,
            "order": null,
            "overflow": null,
            "overflow_x": null,
            "overflow_y": null,
            "padding": null,
            "right": null,
            "top": null,
            "visibility": null,
            "width": null
          }
        },
        "451f32a19dea4d748fac92ba4d7ec2ac": {
          "model_module": "@jupyter-widgets/controls",
          "model_name": "DescriptionStyleModel",
          "model_module_version": "1.5.0",
          "state": {
            "_model_module": "@jupyter-widgets/controls",
            "_model_module_version": "1.5.0",
            "_model_name": "DescriptionStyleModel",
            "_view_count": null,
            "_view_module": "@jupyter-widgets/base",
            "_view_module_version": "1.2.0",
            "_view_name": "StyleView",
            "description_width": ""
          }
        },
        "1b2efc327e884969b59c1953f193070f": {
          "model_module": "@jupyter-widgets/base",
          "model_name": "LayoutModel",
          "model_module_version": "1.2.0",
          "state": {
            "_model_module": "@jupyter-widgets/base",
            "_model_module_version": "1.2.0",
            "_model_name": "LayoutModel",
            "_view_count": null,
            "_view_module": "@jupyter-widgets/base",
            "_view_module_version": "1.2.0",
            "_view_name": "LayoutView",
            "align_content": null,
            "align_items": null,
            "align_self": null,
            "border": null,
            "bottom": null,
            "display": null,
            "flex": null,
            "flex_flow": null,
            "grid_area": null,
            "grid_auto_columns": null,
            "grid_auto_flow": null,
            "grid_auto_rows": null,
            "grid_column": null,
            "grid_gap": null,
            "grid_row": null,
            "grid_template_areas": null,
            "grid_template_columns": null,
            "grid_template_rows": null,
            "height": null,
            "justify_content": null,
            "justify_items": null,
            "left": null,
            "margin": null,
            "max_height": null,
            "max_width": null,
            "min_height": null,
            "min_width": null,
            "object_fit": null,
            "object_position": null,
            "order": null,
            "overflow": null,
            "overflow_x": null,
            "overflow_y": null,
            "padding": null,
            "right": null,
            "top": null,
            "visibility": null,
            "width": null
          }
        },
        "dc8b59e6edb445a0acf25d6e1264661e": {
          "model_module": "@jupyter-widgets/controls",
          "model_name": "ProgressStyleModel",
          "model_module_version": "1.5.0",
          "state": {
            "_model_module": "@jupyter-widgets/controls",
            "_model_module_version": "1.5.0",
            "_model_name": "ProgressStyleModel",
            "_view_count": null,
            "_view_module": "@jupyter-widgets/base",
            "_view_module_version": "1.2.0",
            "_view_name": "StyleView",
            "bar_color": null,
            "description_width": ""
          }
        },
        "a484c0ea75124a9092f99d6e8fcab78e": {
          "model_module": "@jupyter-widgets/base",
          "model_name": "LayoutModel",
          "model_module_version": "1.2.0",
          "state": {
            "_model_module": "@jupyter-widgets/base",
            "_model_module_version": "1.2.0",
            "_model_name": "LayoutModel",
            "_view_count": null,
            "_view_module": "@jupyter-widgets/base",
            "_view_module_version": "1.2.0",
            "_view_name": "LayoutView",
            "align_content": null,
            "align_items": null,
            "align_self": null,
            "border": null,
            "bottom": null,
            "display": null,
            "flex": null,
            "flex_flow": null,
            "grid_area": null,
            "grid_auto_columns": null,
            "grid_auto_flow": null,
            "grid_auto_rows": null,
            "grid_column": null,
            "grid_gap": null,
            "grid_row": null,
            "grid_template_areas": null,
            "grid_template_columns": null,
            "grid_template_rows": null,
            "height": null,
            "justify_content": null,
            "justify_items": null,
            "left": null,
            "margin": null,
            "max_height": null,
            "max_width": null,
            "min_height": null,
            "min_width": null,
            "object_fit": null,
            "object_position": null,
            "order": null,
            "overflow": null,
            "overflow_x": null,
            "overflow_y": null,
            "padding": null,
            "right": null,
            "top": null,
            "visibility": null,
            "width": null
          }
        },
        "2930d2be3b5646cda46a0d658c1e96f5": {
          "model_module": "@jupyter-widgets/controls",
          "model_name": "DescriptionStyleModel",
          "model_module_version": "1.5.0",
          "state": {
            "_model_module": "@jupyter-widgets/controls",
            "_model_module_version": "1.5.0",
            "_model_name": "DescriptionStyleModel",
            "_view_count": null,
            "_view_module": "@jupyter-widgets/base",
            "_view_module_version": "1.2.0",
            "_view_name": "StyleView",
            "description_width": ""
          }
        },
        "e52c05924d3f41c6949a4cd5655b3c2e": {
          "model_module": "@jupyter-widgets/controls",
          "model_name": "HBoxModel",
          "model_module_version": "1.5.0",
          "state": {
            "_dom_classes": [],
            "_model_module": "@jupyter-widgets/controls",
            "_model_module_version": "1.5.0",
            "_model_name": "HBoxModel",
            "_view_count": null,
            "_view_module": "@jupyter-widgets/controls",
            "_view_module_version": "1.5.0",
            "_view_name": "HBoxView",
            "box_style": "",
            "children": [
              "IPY_MODEL_855d4af43e4a4c15ae492c102b0813da",
              "IPY_MODEL_3498169c53c246bb98591b1c09813c7c",
              "IPY_MODEL_f590541868ab4fc7b3372974337b3daf"
            ],
            "layout": "IPY_MODEL_ad723ec78d684ea085e96b5def1ce868"
          }
        },
        "855d4af43e4a4c15ae492c102b0813da": {
          "model_module": "@jupyter-widgets/controls",
          "model_name": "HTMLModel",
          "model_module_version": "1.5.0",
          "state": {
            "_dom_classes": [],
            "_model_module": "@jupyter-widgets/controls",
            "_model_module_version": "1.5.0",
            "_model_name": "HTMLModel",
            "_view_count": null,
            "_view_module": "@jupyter-widgets/controls",
            "_view_module_version": "1.5.0",
            "_view_name": "HTMLView",
            "description": "",
            "description_tooltip": null,
            "layout": "IPY_MODEL_8d29f8e67b7d43a38bdeeab0f59330a5",
            "placeholder": "​",
            "style": "IPY_MODEL_7e4140facf8c465d9df6e8b04ca5b5d8",
            "value": "Downloading: 100%"
          }
        },
        "3498169c53c246bb98591b1c09813c7c": {
          "model_module": "@jupyter-widgets/controls",
          "model_name": "FloatProgressModel",
          "model_module_version": "1.5.0",
          "state": {
            "_dom_classes": [],
            "_model_module": "@jupyter-widgets/controls",
            "_model_module_version": "1.5.0",
            "_model_name": "FloatProgressModel",
            "_view_count": null,
            "_view_module": "@jupyter-widgets/controls",
            "_view_module_version": "1.5.0",
            "_view_name": "ProgressView",
            "bar_style": "success",
            "description": "",
            "description_tooltip": null,
            "layout": "IPY_MODEL_9da99fc9f98e454bb082b683fe307143",
            "max": 891691430,
            "min": 0,
            "orientation": "horizontal",
            "style": "IPY_MODEL_fd1ce68fc5d84f269f02b5f2a14f62c0",
            "value": 891691430
          }
        },
        "f590541868ab4fc7b3372974337b3daf": {
          "model_module": "@jupyter-widgets/controls",
          "model_name": "HTMLModel",
          "model_module_version": "1.5.0",
          "state": {
            "_dom_classes": [],
            "_model_module": "@jupyter-widgets/controls",
            "_model_module_version": "1.5.0",
            "_model_name": "HTMLModel",
            "_view_count": null,
            "_view_module": "@jupyter-widgets/controls",
            "_view_module_version": "1.5.0",
            "_view_name": "HTMLView",
            "description": "",
            "description_tooltip": null,
            "layout": "IPY_MODEL_f7cc53ed938e4ff3b3a8d16ade60a46e",
            "placeholder": "​",
            "style": "IPY_MODEL_2414f6e867cd4a738b8a6684b9f488c2",
            "value": " 892M/892M [00:23&lt;00:00, 35.7MB/s]"
          }
        },
        "ad723ec78d684ea085e96b5def1ce868": {
          "model_module": "@jupyter-widgets/base",
          "model_name": "LayoutModel",
          "model_module_version": "1.2.0",
          "state": {
            "_model_module": "@jupyter-widgets/base",
            "_model_module_version": "1.2.0",
            "_model_name": "LayoutModel",
            "_view_count": null,
            "_view_module": "@jupyter-widgets/base",
            "_view_module_version": "1.2.0",
            "_view_name": "LayoutView",
            "align_content": null,
            "align_items": null,
            "align_self": null,
            "border": null,
            "bottom": null,
            "display": null,
            "flex": null,
            "flex_flow": null,
            "grid_area": null,
            "grid_auto_columns": null,
            "grid_auto_flow": null,
            "grid_auto_rows": null,
            "grid_column": null,
            "grid_gap": null,
            "grid_row": null,
            "grid_template_areas": null,
            "grid_template_columns": null,
            "grid_template_rows": null,
            "height": null,
            "justify_content": null,
            "justify_items": null,
            "left": null,
            "margin": null,
            "max_height": null,
            "max_width": null,
            "min_height": null,
            "min_width": null,
            "object_fit": null,
            "object_position": null,
            "order": null,
            "overflow": null,
            "overflow_x": null,
            "overflow_y": null,
            "padding": null,
            "right": null,
            "top": null,
            "visibility": null,
            "width": null
          }
        },
        "8d29f8e67b7d43a38bdeeab0f59330a5": {
          "model_module": "@jupyter-widgets/base",
          "model_name": "LayoutModel",
          "model_module_version": "1.2.0",
          "state": {
            "_model_module": "@jupyter-widgets/base",
            "_model_module_version": "1.2.0",
            "_model_name": "LayoutModel",
            "_view_count": null,
            "_view_module": "@jupyter-widgets/base",
            "_view_module_version": "1.2.0",
            "_view_name": "LayoutView",
            "align_content": null,
            "align_items": null,
            "align_self": null,
            "border": null,
            "bottom": null,
            "display": null,
            "flex": null,
            "flex_flow": null,
            "grid_area": null,
            "grid_auto_columns": null,
            "grid_auto_flow": null,
            "grid_auto_rows": null,
            "grid_column": null,
            "grid_gap": null,
            "grid_row": null,
            "grid_template_areas": null,
            "grid_template_columns": null,
            "grid_template_rows": null,
            "height": null,
            "justify_content": null,
            "justify_items": null,
            "left": null,
            "margin": null,
            "max_height": null,
            "max_width": null,
            "min_height": null,
            "min_width": null,
            "object_fit": null,
            "object_position": null,
            "order": null,
            "overflow": null,
            "overflow_x": null,
            "overflow_y": null,
            "padding": null,
            "right": null,
            "top": null,
            "visibility": null,
            "width": null
          }
        },
        "7e4140facf8c465d9df6e8b04ca5b5d8": {
          "model_module": "@jupyter-widgets/controls",
          "model_name": "DescriptionStyleModel",
          "model_module_version": "1.5.0",
          "state": {
            "_model_module": "@jupyter-widgets/controls",
            "_model_module_version": "1.5.0",
            "_model_name": "DescriptionStyleModel",
            "_view_count": null,
            "_view_module": "@jupyter-widgets/base",
            "_view_module_version": "1.2.0",
            "_view_name": "StyleView",
            "description_width": ""
          }
        },
        "9da99fc9f98e454bb082b683fe307143": {
          "model_module": "@jupyter-widgets/base",
          "model_name": "LayoutModel",
          "model_module_version": "1.2.0",
          "state": {
            "_model_module": "@jupyter-widgets/base",
            "_model_module_version": "1.2.0",
            "_model_name": "LayoutModel",
            "_view_count": null,
            "_view_module": "@jupyter-widgets/base",
            "_view_module_version": "1.2.0",
            "_view_name": "LayoutView",
            "align_content": null,
            "align_items": null,
            "align_self": null,
            "border": null,
            "bottom": null,
            "display": null,
            "flex": null,
            "flex_flow": null,
            "grid_area": null,
            "grid_auto_columns": null,
            "grid_auto_flow": null,
            "grid_auto_rows": null,
            "grid_column": null,
            "grid_gap": null,
            "grid_row": null,
            "grid_template_areas": null,
            "grid_template_columns": null,
            "grid_template_rows": null,
            "height": null,
            "justify_content": null,
            "justify_items": null,
            "left": null,
            "margin": null,
            "max_height": null,
            "max_width": null,
            "min_height": null,
            "min_width": null,
            "object_fit": null,
            "object_position": null,
            "order": null,
            "overflow": null,
            "overflow_x": null,
            "overflow_y": null,
            "padding": null,
            "right": null,
            "top": null,
            "visibility": null,
            "width": null
          }
        },
        "fd1ce68fc5d84f269f02b5f2a14f62c0": {
          "model_module": "@jupyter-widgets/controls",
          "model_name": "ProgressStyleModel",
          "model_module_version": "1.5.0",
          "state": {
            "_model_module": "@jupyter-widgets/controls",
            "_model_module_version": "1.5.0",
            "_model_name": "ProgressStyleModel",
            "_view_count": null,
            "_view_module": "@jupyter-widgets/base",
            "_view_module_version": "1.2.0",
            "_view_name": "StyleView",
            "bar_color": null,
            "description_width": ""
          }
        },
        "f7cc53ed938e4ff3b3a8d16ade60a46e": {
          "model_module": "@jupyter-widgets/base",
          "model_name": "LayoutModel",
          "model_module_version": "1.2.0",
          "state": {
            "_model_module": "@jupyter-widgets/base",
            "_model_module_version": "1.2.0",
            "_model_name": "LayoutModel",
            "_view_count": null,
            "_view_module": "@jupyter-widgets/base",
            "_view_module_version": "1.2.0",
            "_view_name": "LayoutView",
            "align_content": null,
            "align_items": null,
            "align_self": null,
            "border": null,
            "bottom": null,
            "display": null,
            "flex": null,
            "flex_flow": null,
            "grid_area": null,
            "grid_auto_columns": null,
            "grid_auto_flow": null,
            "grid_auto_rows": null,
            "grid_column": null,
            "grid_gap": null,
            "grid_row": null,
            "grid_template_areas": null,
            "grid_template_columns": null,
            "grid_template_rows": null,
            "height": null,
            "justify_content": null,
            "justify_items": null,
            "left": null,
            "margin": null,
            "max_height": null,
            "max_width": null,
            "min_height": null,
            "min_width": null,
            "object_fit": null,
            "object_position": null,
            "order": null,
            "overflow": null,
            "overflow_x": null,
            "overflow_y": null,
            "padding": null,
            "right": null,
            "top": null,
            "visibility": null,
            "width": null
          }
        },
        "2414f6e867cd4a738b8a6684b9f488c2": {
          "model_module": "@jupyter-widgets/controls",
          "model_name": "DescriptionStyleModel",
          "model_module_version": "1.5.0",
          "state": {
            "_model_module": "@jupyter-widgets/controls",
            "_model_module_version": "1.5.0",
            "_model_name": "DescriptionStyleModel",
            "_view_count": null,
            "_view_module": "@jupyter-widgets/base",
            "_view_module_version": "1.2.0",
            "_view_name": "StyleView",
            "description_width": ""
          }
        },
        "64853cfb830b4100bc5270c37e048e36": {
          "model_module": "@jupyter-widgets/controls",
          "model_name": "HBoxModel",
          "model_module_version": "1.5.0",
          "state": {
            "_dom_classes": [],
            "_model_module": "@jupyter-widgets/controls",
            "_model_module_version": "1.5.0",
            "_model_name": "HBoxModel",
            "_view_count": null,
            "_view_module": "@jupyter-widgets/controls",
            "_view_module_version": "1.5.0",
            "_view_name": "HBoxView",
            "box_style": "",
            "children": [
              "IPY_MODEL_e2da81d3326f419194065aed051f68f0",
              "IPY_MODEL_da30a1da51084654b6d077d94369fed1",
              "IPY_MODEL_becad3fb68dc47b3b7d7cee027739ff1"
            ],
            "layout": "IPY_MODEL_aa2332d418784b1694650d9bd4fbf44e"
          }
        },
        "e2da81d3326f419194065aed051f68f0": {
          "model_module": "@jupyter-widgets/controls",
          "model_name": "HTMLModel",
          "model_module_version": "1.5.0",
          "state": {
            "_dom_classes": [],
            "_model_module": "@jupyter-widgets/controls",
            "_model_module_version": "1.5.0",
            "_model_name": "HTMLModel",
            "_view_count": null,
            "_view_module": "@jupyter-widgets/controls",
            "_view_module_version": "1.5.0",
            "_view_name": "HTMLView",
            "description": "",
            "description_tooltip": null,
            "layout": "IPY_MODEL_8e5279aec31b4c90a4823bf928739e59",
            "placeholder": "​",
            "style": "IPY_MODEL_56c0fb4553d549b6bebb0d937c14c872",
            "value": "Downloading: 100%"
          }
        },
        "da30a1da51084654b6d077d94369fed1": {
          "model_module": "@jupyter-widgets/controls",
          "model_name": "FloatProgressModel",
          "model_module_version": "1.5.0",
          "state": {
            "_dom_classes": [],
            "_model_module": "@jupyter-widgets/controls",
            "_model_module_version": "1.5.0",
            "_model_name": "FloatProgressModel",
            "_view_count": null,
            "_view_module": "@jupyter-widgets/controls",
            "_view_module_version": "1.5.0",
            "_view_name": "ProgressView",
            "bar_style": "success",
            "description": "",
            "description_tooltip": null,
            "layout": "IPY_MODEL_e04e9b45e5bb42bdb058b01523793540",
            "max": 791656,
            "min": 0,
            "orientation": "horizontal",
            "style": "IPY_MODEL_279feeb4086a47299fac8319eb21a697",
            "value": 791656
          }
        },
        "becad3fb68dc47b3b7d7cee027739ff1": {
          "model_module": "@jupyter-widgets/controls",
          "model_name": "HTMLModel",
          "model_module_version": "1.5.0",
          "state": {
            "_dom_classes": [],
            "_model_module": "@jupyter-widgets/controls",
            "_model_module_version": "1.5.0",
            "_model_name": "HTMLModel",
            "_view_count": null,
            "_view_module": "@jupyter-widgets/controls",
            "_view_module_version": "1.5.0",
            "_view_name": "HTMLView",
            "description": "",
            "description_tooltip": null,
            "layout": "IPY_MODEL_c807b7471d454a02aac547804d6f9ab0",
            "placeholder": "​",
            "style": "IPY_MODEL_eb2e3175b34547238357cf62a1a4da53",
            "value": " 792k/792k [00:00&lt;00:00, 3.03MB/s]"
          }
        },
        "aa2332d418784b1694650d9bd4fbf44e": {
          "model_module": "@jupyter-widgets/base",
          "model_name": "LayoutModel",
          "model_module_version": "1.2.0",
          "state": {
            "_model_module": "@jupyter-widgets/base",
            "_model_module_version": "1.2.0",
            "_model_name": "LayoutModel",
            "_view_count": null,
            "_view_module": "@jupyter-widgets/base",
            "_view_module_version": "1.2.0",
            "_view_name": "LayoutView",
            "align_content": null,
            "align_items": null,
            "align_self": null,
            "border": null,
            "bottom": null,
            "display": null,
            "flex": null,
            "flex_flow": null,
            "grid_area": null,
            "grid_auto_columns": null,
            "grid_auto_flow": null,
            "grid_auto_rows": null,
            "grid_column": null,
            "grid_gap": null,
            "grid_row": null,
            "grid_template_areas": null,
            "grid_template_columns": null,
            "grid_template_rows": null,
            "height": null,
            "justify_content": null,
            "justify_items": null,
            "left": null,
            "margin": null,
            "max_height": null,
            "max_width": null,
            "min_height": null,
            "min_width": null,
            "object_fit": null,
            "object_position": null,
            "order": null,
            "overflow": null,
            "overflow_x": null,
            "overflow_y": null,
            "padding": null,
            "right": null,
            "top": null,
            "visibility": null,
            "width": null
          }
        },
        "8e5279aec31b4c90a4823bf928739e59": {
          "model_module": "@jupyter-widgets/base",
          "model_name": "LayoutModel",
          "model_module_version": "1.2.0",
          "state": {
            "_model_module": "@jupyter-widgets/base",
            "_model_module_version": "1.2.0",
            "_model_name": "LayoutModel",
            "_view_count": null,
            "_view_module": "@jupyter-widgets/base",
            "_view_module_version": "1.2.0",
            "_view_name": "LayoutView",
            "align_content": null,
            "align_items": null,
            "align_self": null,
            "border": null,
            "bottom": null,
            "display": null,
            "flex": null,
            "flex_flow": null,
            "grid_area": null,
            "grid_auto_columns": null,
            "grid_auto_flow": null,
            "grid_auto_rows": null,
            "grid_column": null,
            "grid_gap": null,
            "grid_row": null,
            "grid_template_areas": null,
            "grid_template_columns": null,
            "grid_template_rows": null,
            "height": null,
            "justify_content": null,
            "justify_items": null,
            "left": null,
            "margin": null,
            "max_height": null,
            "max_width": null,
            "min_height": null,
            "min_width": null,
            "object_fit": null,
            "object_position": null,
            "order": null,
            "overflow": null,
            "overflow_x": null,
            "overflow_y": null,
            "padding": null,
            "right": null,
            "top": null,
            "visibility": null,
            "width": null
          }
        },
        "56c0fb4553d549b6bebb0d937c14c872": {
          "model_module": "@jupyter-widgets/controls",
          "model_name": "DescriptionStyleModel",
          "model_module_version": "1.5.0",
          "state": {
            "_model_module": "@jupyter-widgets/controls",
            "_model_module_version": "1.5.0",
            "_model_name": "DescriptionStyleModel",
            "_view_count": null,
            "_view_module": "@jupyter-widgets/base",
            "_view_module_version": "1.2.0",
            "_view_name": "StyleView",
            "description_width": ""
          }
        },
        "e04e9b45e5bb42bdb058b01523793540": {
          "model_module": "@jupyter-widgets/base",
          "model_name": "LayoutModel",
          "model_module_version": "1.2.0",
          "state": {
            "_model_module": "@jupyter-widgets/base",
            "_model_module_version": "1.2.0",
            "_model_name": "LayoutModel",
            "_view_count": null,
            "_view_module": "@jupyter-widgets/base",
            "_view_module_version": "1.2.0",
            "_view_name": "LayoutView",
            "align_content": null,
            "align_items": null,
            "align_self": null,
            "border": null,
            "bottom": null,
            "display": null,
            "flex": null,
            "flex_flow": null,
            "grid_area": null,
            "grid_auto_columns": null,
            "grid_auto_flow": null,
            "grid_auto_rows": null,
            "grid_column": null,
            "grid_gap": null,
            "grid_row": null,
            "grid_template_areas": null,
            "grid_template_columns": null,
            "grid_template_rows": null,
            "height": null,
            "justify_content": null,
            "justify_items": null,
            "left": null,
            "margin": null,
            "max_height": null,
            "max_width": null,
            "min_height": null,
            "min_width": null,
            "object_fit": null,
            "object_position": null,
            "order": null,
            "overflow": null,
            "overflow_x": null,
            "overflow_y": null,
            "padding": null,
            "right": null,
            "top": null,
            "visibility": null,
            "width": null
          }
        },
        "279feeb4086a47299fac8319eb21a697": {
          "model_module": "@jupyter-widgets/controls",
          "model_name": "ProgressStyleModel",
          "model_module_version": "1.5.0",
          "state": {
            "_model_module": "@jupyter-widgets/controls",
            "_model_module_version": "1.5.0",
            "_model_name": "ProgressStyleModel",
            "_view_count": null,
            "_view_module": "@jupyter-widgets/base",
            "_view_module_version": "1.2.0",
            "_view_name": "StyleView",
            "bar_color": null,
            "description_width": ""
          }
        },
        "c807b7471d454a02aac547804d6f9ab0": {
          "model_module": "@jupyter-widgets/base",
          "model_name": "LayoutModel",
          "model_module_version": "1.2.0",
          "state": {
            "_model_module": "@jupyter-widgets/base",
            "_model_module_version": "1.2.0",
            "_model_name": "LayoutModel",
            "_view_count": null,
            "_view_module": "@jupyter-widgets/base",
            "_view_module_version": "1.2.0",
            "_view_name": "LayoutView",
            "align_content": null,
            "align_items": null,
            "align_self": null,
            "border": null,
            "bottom": null,
            "display": null,
            "flex": null,
            "flex_flow": null,
            "grid_area": null,
            "grid_auto_columns": null,
            "grid_auto_flow": null,
            "grid_auto_rows": null,
            "grid_column": null,
            "grid_gap": null,
            "grid_row": null,
            "grid_template_areas": null,
            "grid_template_columns": null,
            "grid_template_rows": null,
            "height": null,
            "justify_content": null,
            "justify_items": null,
            "left": null,
            "margin": null,
            "max_height": null,
            "max_width": null,
            "min_height": null,
            "min_width": null,
            "object_fit": null,
            "object_position": null,
            "order": null,
            "overflow": null,
            "overflow_x": null,
            "overflow_y": null,
            "padding": null,
            "right": null,
            "top": null,
            "visibility": null,
            "width": null
          }
        },
        "eb2e3175b34547238357cf62a1a4da53": {
          "model_module": "@jupyter-widgets/controls",
          "model_name": "DescriptionStyleModel",
          "model_module_version": "1.5.0",
          "state": {
            "_model_module": "@jupyter-widgets/controls",
            "_model_module_version": "1.5.0",
            "_model_name": "DescriptionStyleModel",
            "_view_count": null,
            "_view_module": "@jupyter-widgets/base",
            "_view_module_version": "1.2.0",
            "_view_name": "StyleView",
            "description_width": ""
          }
        }
      }
    }
  },
  "cells": [
    {
      "cell_type": "code",
      "source": [],
      "metadata": {
        "id": "s7bsqYpnwT4o"
      },
      "execution_count": null,
      "outputs": []
    },
    {
      "cell_type": "markdown",
      "source": [
        "Text Summarization Models"
      ],
      "metadata": {
        "id": "OCvXsTcKowzw"
      }
    },
    {
      "cell_type": "code",
      "source": [],
      "metadata": {
        "id": "CItg0ulqwxSV"
      },
      "execution_count": null,
      "outputs": []
    },
    {
      "cell_type": "markdown",
      "source": [
        "#Luhn's Heuristic Method"
      ],
      "metadata": {
        "id": "QuzVdcOdo4xP"
      }
    },
    {
      "cell_type": "markdown",
      "source": [
        "Summary for the text : Flames and a large plume of smoke could be seen in the Kent area Friday as crews worked to extinguish a massive fire in the Historic Mill District. The fire broke out at Star of the West Milling Co. building at 162 N Water Street just before 9 a.m. Kent Fire Chief Bill Myers said that 3 minutes after firefighters arrived at the scene, there was an explosion. It’s not clear what caused it.The structure of the building was compromised after the explosion, so crews couldn’t go inside it. They worked on extinguishing the fire from the outside, the fire chief said.Chief Myers said they are also having some water supply issues. According to the chief, fighting the fire was taxing the water supply, so they were trying to reduce their use. The chief said fire operations could stretch into Saturday.No one was hurt in the fire. It’s unclear how the building was currently being used. The chief said no evacuations were issued. Kent State University issued an alert saying there is no threat to the campus but to avoid the downtown area.The cause of the fire is unknown.Named after the Williams Brothers in 1879, the Mill District of Kent, Ohio says the mill once produced hundreds of millions of pounds of flour. The iconic grain elevators are a well-known fixture in the city’s skyline."
      ],
      "metadata": {
        "id": "V6a98cKco9mN"
      }
    },
    {
      "cell_type": "markdown",
      "source": [
        "Source of the text : https://fox8.com/email-alerts/breaking-news-email-alerts/fire-breaks-out-at-in-kent-mill-district/\n"
      ],
      "metadata": {
        "id": "c5bi9cBpppNE"
      }
    },
    {
      "cell_type": "markdown",
      "source": [
        "Importing library sumy\n"
      ],
      "metadata": {
        "id": "viLQA_a0qhe0"
      }
    },
    {
      "cell_type": "code",
      "source": [
        "pip install sumy"
      ],
      "metadata": {
        "colab": {
          "base_uri": "https://localhost:8080/"
        },
        "id": "_6h7HhUzpu1e",
        "outputId": "df26d7c2-f273-45aa-950f-be2e4b937eee"
      },
      "execution_count": 1,
      "outputs": [
        {
          "output_type": "stream",
          "name": "stdout",
          "text": [
            "Looking in indexes: https://pypi.org/simple, https://us-python.pkg.dev/colab-wheels/public/simple/\n",
            "Collecting sumy\n",
            "  Downloading sumy-0.11.0-py2.py3-none-any.whl (97 kB)\n",
            "\u001b[K     |████████████████████████████████| 97 kB 2.0 MB/s \n",
            "\u001b[?25hRequirement already satisfied: requests>=2.7.0 in /usr/local/lib/python3.8/dist-packages (from sumy) (2.23.0)\n",
            "Collecting pycountry>=18.2.23\n",
            "  Downloading pycountry-22.3.5.tar.gz (10.1 MB)\n",
            "\u001b[K     |████████████████████████████████| 10.1 MB 19.9 MB/s \n",
            "\u001b[?25h  Installing build dependencies ... \u001b[?25l\u001b[?25hdone\n",
            "  Getting requirements to build wheel ... \u001b[?25l\u001b[?25hdone\n",
            "    Preparing wheel metadata ... \u001b[?25l\u001b[?25hdone\n",
            "Collecting breadability>=0.1.20\n",
            "  Downloading breadability-0.1.20.tar.gz (32 kB)\n",
            "Collecting docopt<0.7,>=0.6.1\n",
            "  Downloading docopt-0.6.2.tar.gz (25 kB)\n",
            "Requirement already satisfied: nltk>=3.0.2 in /usr/local/lib/python3.8/dist-packages (from sumy) (3.7)\n",
            "Requirement already satisfied: chardet in /usr/local/lib/python3.8/dist-packages (from breadability>=0.1.20->sumy) (3.0.4)\n",
            "Requirement already satisfied: lxml>=2.0 in /usr/local/lib/python3.8/dist-packages (from breadability>=0.1.20->sumy) (4.9.1)\n",
            "Requirement already satisfied: regex>=2021.8.3 in /usr/local/lib/python3.8/dist-packages (from nltk>=3.0.2->sumy) (2022.6.2)\n",
            "Requirement already satisfied: tqdm in /usr/local/lib/python3.8/dist-packages (from nltk>=3.0.2->sumy) (4.64.1)\n",
            "Requirement already satisfied: click in /usr/local/lib/python3.8/dist-packages (from nltk>=3.0.2->sumy) (7.1.2)\n",
            "Requirement already satisfied: joblib in /usr/local/lib/python3.8/dist-packages (from nltk>=3.0.2->sumy) (1.2.0)\n",
            "Requirement already satisfied: setuptools in /usr/local/lib/python3.8/dist-packages (from pycountry>=18.2.23->sumy) (57.4.0)\n",
            "Requirement already satisfied: urllib3!=1.25.0,!=1.25.1,<1.26,>=1.21.1 in /usr/local/lib/python3.8/dist-packages (from requests>=2.7.0->sumy) (1.24.3)\n",
            "Requirement already satisfied: certifi>=2017.4.17 in /usr/local/lib/python3.8/dist-packages (from requests>=2.7.0->sumy) (2022.9.24)\n",
            "Requirement already satisfied: idna<3,>=2.5 in /usr/local/lib/python3.8/dist-packages (from requests>=2.7.0->sumy) (2.10)\n",
            "Building wheels for collected packages: breadability, docopt, pycountry\n",
            "  Building wheel for breadability (setup.py) ... \u001b[?25l\u001b[?25hdone\n",
            "  Created wheel for breadability: filename=breadability-0.1.20-py2.py3-none-any.whl size=21714 sha256=94aa57fec129c927fcc03e333991de00998ec9bc572a581154a6db7b2aebf5bb\n",
            "  Stored in directory: /root/.cache/pip/wheels/5f/0d/0c/2062d8c1758b4b1a2e42b4a63e6660d9ec2ba9463cfee9eeab\n",
            "  Building wheel for docopt (setup.py) ... \u001b[?25l\u001b[?25hdone\n",
            "  Created wheel for docopt: filename=docopt-0.6.2-py2.py3-none-any.whl size=13723 sha256=c96f5d3cb5e3986c82ef672a102be0303e707c90218ed98bff0d1720c29c749f\n",
            "  Stored in directory: /root/.cache/pip/wheels/56/ea/58/ead137b087d9e326852a851351d1debf4ada529b6ac0ec4e8c\n",
            "  Building wheel for pycountry (PEP 517) ... \u001b[?25l\u001b[?25hdone\n",
            "  Created wheel for pycountry: filename=pycountry-22.3.5-py2.py3-none-any.whl size=10681845 sha256=7f004028eaaefc9a2f6c5c2b6478fa6a60b361b06e64c7cc9f4fd9cfd3b56252\n",
            "  Stored in directory: /root/.cache/pip/wheels/e2/aa/0f/c224e473b464387170b83ca7c66947b4a7e33e8d903a679748\n",
            "Successfully built breadability docopt pycountry\n",
            "Installing collected packages: docopt, pycountry, breadability, sumy\n",
            "Successfully installed breadability-0.1.20 docopt-0.6.2 pycountry-22.3.5 sumy-0.11.0\n"
          ]
        }
      ]
    },
    {
      "cell_type": "code",
      "source": [
        "import sumy\n",
        "import nltk\n",
        "nltk.download('punkt')\n",
        "from sumy.summarizers.luhn import LuhnSummarizer\n",
        "from sumy.nlp.tokenizers import Tokenizer\n",
        "from sumy.parsers.plaintext import PlaintextParser\n"
      ],
      "metadata": {
        "colab": {
          "base_uri": "https://localhost:8080/"
        },
        "id": "zZrR4l75povp",
        "outputId": "acdc8df8-fbd1-460b-b02c-a398c23eaafa"
      },
      "execution_count": 2,
      "outputs": [
        {
          "output_type": "stream",
          "name": "stderr",
          "text": [
            "[nltk_data] Downloading package punkt to /root/nltk_data...\n",
            "[nltk_data]   Unzipping tokenizers/punkt.zip.\n"
          ]
        }
      ]
    },
    {
      "cell_type": "code",
      "execution_count": 3,
      "metadata": {
        "id": "UodA0bwcoE88"
      },
      "outputs": [],
      "source": [
        "source_material = \"Flames and a large plume of smoke could be seen in the Kent area Friday as crews worked to extinguish a massive fire in the Historic Mill District. The fire broke out at Star of the West Milling Co. building at 162 N Water Street just before 9 a.m. Kent Fire Chief Bill Myers said that 3 minutes after firefighters arrived at the scene, there was an explosion. It’s not clear what caused it.The structure of the building was compromised after the explosion, so crews couldn’t go inside it. They worked on extinguishing the fire from the outside, the fire chief said.Chief Myers said they are also having some water supply issues. According to the chief, fighting the fire was taxing the water supply, so they were trying to reduce their use. The chief said fire operations could stretch into Saturday.No one was hurt in the fire. It’s unclear how the building was currently being used. The chief said no evacuations were issued. Kent State University issued an alert saying there is no threat to the campus but to avoid the downtown area.The cause of the fire is unknown.Named after the Williams Brothers in 1879, the Mill District of Kent, Ohio says the mill once produced hundreds of millions of pounds of flour. The iconic grain elevators are a well-known fixture in the city’s skyline.\""
      ]
    },
    {
      "cell_type": "code",
      "source": [
        "LANGUAGE = \"english\"\n",
        "parser = PlaintextParser.from_string(source_material,Tokenizer(LANGUAGE))"
      ],
      "metadata": {
        "id": "FXe0wqsErDwT"
      },
      "execution_count": 4,
      "outputs": []
    },
    {
      "cell_type": "code",
      "source": [
        "summarizer = LuhnSummarizer()"
      ],
      "metadata": {
        "id": "aaTzGnptrFZe"
      },
      "execution_count": 5,
      "outputs": []
    },
    {
      "cell_type": "code",
      "source": [
        "testsummary = summarizer(parser.document,sentences_count=3)"
      ],
      "metadata": {
        "id": "VkTJmsKxrIe3"
      },
      "execution_count": 6,
      "outputs": []
    },
    {
      "cell_type": "code",
      "source": [
        "summary = \"\"\n",
        "for sentence in testsummary:\n",
        "  summary+=str(sentence)\n",
        "print(summary)"
      ],
      "metadata": {
        "colab": {
          "base_uri": "https://localhost:8080/"
        },
        "id": "0MRMQzKQrMJv",
        "outputId": "22cb4c5a-593d-491d-ce5b-6c553a587b19"
      },
      "execution_count": 7,
      "outputs": [
        {
          "output_type": "stream",
          "name": "stdout",
          "text": [
            "The fire broke out at Star of the West Milling Co. building at 162 N Water Street just before 9 a.m. Kent Fire Chief Bill Myers said that 3 minutes after firefighters arrived at the scene, there was an explosion.According to the chief, fighting the fire was taxing the water supply, so they were trying to reduce their use.Kent State University issued an alert saying there is no threat to the campus but to avoid the downtown area.The cause of the fire is unknown.Named after the Williams Brothers in 1879, the Mill District of Kent, Ohio says the mill once produced hundreds of millions of pounds of flour.\n"
          ]
        }
      ]
    },
    {
      "cell_type": "markdown",
      "source": [
        "we obtain the following output: The fire broke out at Star of the West Milling Co. building at 162 N Water Street just before 9 a.m. Kent Fire Chief Bill Myers said that 3 minutes after firefighters arrived at the scene, there was an explosion.According to the chief, fighting the fire was taxing the water supply, so they were trying to reduce their use.Kent State University issued an alert saying there is no threat to the campus but to avoid the downtown area.The cause of the fire is unknown.Named after the Williams Brothers in 1879, the Mill District of Kent, Ohio says the mill once produced hundreds of millions of pounds of flour.\n",
        "\n"
      ],
      "metadata": {
        "id": "IzaZ-vBTtJ7p"
      }
    },
    {
      "cell_type": "markdown",
      "source": [
        " Evaluating using ROUGE METRICS\n"
      ],
      "metadata": {
        "id": "lw-jY1iptkza"
      }
    },
    {
      "cell_type": "code",
      "source": [
        "!pip install rouge"
      ],
      "metadata": {
        "colab": {
          "base_uri": "https://localhost:8080/"
        },
        "id": "Npj9u7X9tf6I",
        "outputId": "34bf9c0a-33d7-469c-cc33-186f08c36214"
      },
      "execution_count": 8,
      "outputs": [
        {
          "output_type": "stream",
          "name": "stdout",
          "text": [
            "Looking in indexes: https://pypi.org/simple, https://us-python.pkg.dev/colab-wheels/public/simple/\n",
            "Collecting rouge\n",
            "  Downloading rouge-1.0.1-py3-none-any.whl (13 kB)\n",
            "Requirement already satisfied: six in /usr/local/lib/python3.8/dist-packages (from rouge) (1.15.0)\n",
            "Installing collected packages: rouge\n",
            "Successfully installed rouge-1.0.1\n"
          ]
        }
      ]
    },
    {
      "cell_type": "code",
      "source": [
        "from rouge import Rouge"
      ],
      "metadata": {
        "id": "GJKfnSjnt5jB"
      },
      "execution_count": 9,
      "outputs": []
    },
    {
      "cell_type": "code",
      "source": [
        "reference = \" Flames and a large plume of smoke could be seen in the Kent area Friday as crews worked to extinguish a massive fire in the Historic Mill District. The fire broke out at Star of the West Milling Co. building at 162 N Water Street just before 9 a.m. Kent Fire Chief Bill Myers said that 3 minutes after firefighters arrived at the scene, there was an explosion. It’s not clear what caused it.The structure of the building was compromised after the explosion, so crews couldn’t go inside it. They worked on extinguishing the fire from the outside, the fire chief said.Chief Myers said they are also having some water supply issues. According to the chief, fighting the fire was taxing the water supply, so they were trying to reduce their use. The chief said fire operations could stretch into Saturday.No one was hurt in the fire. It’s unclear how the building was currently being used. The chief said no evacuations were issued. Kent State University issued an alert saying there is no threat to the campus but to avoid the downtown area.The cause of the fire is unknown.Named after the Williams Brothers in 1879, the Mill District of Kent, Ohio says the mill once produced hundreds of millions of pounds of flour. The iconic grain elevators are a well-known fixture in the city’s skyline.\""
      ],
      "metadata": {
        "id": "fPO64VOGt8Z0"
      },
      "execution_count": 10,
      "outputs": []
    },
    {
      "cell_type": "code",
      "source": [
        "ROUGE = Rouge()\n",
        "ROUGE.get_scores(summary,reference)"
      ],
      "metadata": {
        "colab": {
          "base_uri": "https://localhost:8080/"
        },
        "id": "ee810xHruFl1",
        "outputId": "338ecdee-39e3-4eb6-9d79-7528413dc687"
      },
      "execution_count": 11,
      "outputs": [
        {
          "output_type": "execute_result",
          "data": {
            "text/plain": [
              "[{'rouge-1': {'r': 0.5874125874125874, 'p': 1.0, 'f': 0.7400881010646432},\n",
              "  'rouge-2': {'r': 0.5047169811320755,\n",
              "   'p': 0.981651376146789,\n",
              "   'f': 0.666666662181462},\n",
              "  'rouge-l': {'r': 0.5874125874125874, 'p': 1.0, 'f': 0.7400881010646432}}]"
            ]
          },
          "metadata": {},
          "execution_count": 11
        }
      ]
    },
    {
      "cell_type": "markdown",
      "source": [
        "#TEXT RANK\n"
      ],
      "metadata": {
        "id": "3qBNa-ytuZ9f"
      }
    },
    {
      "cell_type": "code",
      "source": [
        "!pip install gensim"
      ],
      "metadata": {
        "colab": {
          "base_uri": "https://localhost:8080/"
        },
        "id": "_tIVFVqyuKDi",
        "outputId": "f75991ba-d977-45e1-dbd4-b9ce6555602c"
      },
      "execution_count": 12,
      "outputs": [
        {
          "output_type": "stream",
          "name": "stdout",
          "text": [
            "Looking in indexes: https://pypi.org/simple, https://us-python.pkg.dev/colab-wheels/public/simple/\n",
            "Requirement already satisfied: gensim in /usr/local/lib/python3.8/dist-packages (3.6.0)\n",
            "Requirement already satisfied: numpy>=1.11.3 in /usr/local/lib/python3.8/dist-packages (from gensim) (1.21.6)\n",
            "Requirement already satisfied: six>=1.5.0 in /usr/local/lib/python3.8/dist-packages (from gensim) (1.15.0)\n",
            "Requirement already satisfied: scipy>=0.18.1 in /usr/local/lib/python3.8/dist-packages (from gensim) (1.7.3)\n",
            "Requirement already satisfied: smart-open>=1.2.1 in /usr/local/lib/python3.8/dist-packages (from gensim) (5.2.1)\n"
          ]
        }
      ]
    },
    {
      "cell_type": "code",
      "source": [
        "import gensim\n",
        "from gensim.summarization import summarize"
      ],
      "metadata": {
        "id": "9HslrnnhupSt"
      },
      "execution_count": 13,
      "outputs": []
    },
    {
      "cell_type": "code",
      "source": [
        "source_material = \"Flames and a large plume of smoke could be seen in the Kent area Friday as crews worked to extinguish a massive fire in the Historic Mill District. The fire broke out at Star of the West Milling Co. building at 162 N Water Street just before 9 a.m. Kent Fire Chief Bill Myers said that 3 minutes after firefighters arrived at the scene, there was an explosion. It’s not clear what caused it.The structure of the building was compromised after the explosion, so crews couldn’t go inside it. They worked on extinguishing the fire from the outside, the fire chief said.Chief Myers said they are also having some water supply issues. According to the chief, fighting the fire was taxing the water supply, so they were trying to reduce their use. The chief said fire operations could stretch into Saturday.No one was hurt in the fire. It’s unclear how the building was currently being used. The chief said no evacuations were issued. Kent State University issued an alert saying there is no threat to the campus but to avoid the downtown area.The cause of the fire is unknown.Named after the Williams Brothers in 1879, the Mill District of Kent, Ohio says the mill once produced hundreds of millions of pounds of flour. The iconic grain elevators are a well-known fixture in the city’s skyline.\""
      ],
      "metadata": {
        "id": "mk6z8Qa2utJU"
      },
      "execution_count": 14,
      "outputs": []
    },
    {
      "cell_type": "code",
      "source": [
        "summary = summarize(source_material,word_count=100)"
      ],
      "metadata": {
        "id": "sUvFVH_cu7B0"
      },
      "execution_count": 15,
      "outputs": []
    },
    {
      "cell_type": "code",
      "source": [
        "print(summary)"
      ],
      "metadata": {
        "colab": {
          "base_uri": "https://localhost:8080/"
        },
        "id": "lIvNuvUWu9gd",
        "outputId": "d21d9352-10f2-44f5-d419-1724348b02d2"
      },
      "execution_count": 16,
      "outputs": [
        {
          "output_type": "stream",
          "name": "stdout",
          "text": [
            "Flames and a large plume of smoke could be seen in the Kent area Friday as crews worked to extinguish a massive fire in the Historic Mill District.\n",
            "The fire broke out at Star of the West Milling Co. building at 162 N Water Street just before 9 a.m. Kent Fire Chief Bill Myers said that 3 minutes after firefighters arrived at the scene, there was an explosion.\n",
            "It’s not clear what caused it.The structure of the building was compromised after the explosion, so crews couldn’t go inside it.\n",
            "They worked on extinguishing the fire from the outside, the fire chief said.Chief Myers said they are also having some water supply issues.\n"
          ]
        }
      ]
    },
    {
      "cell_type": "code",
      "source": [
        "\n",
        "!pip install rouge"
      ],
      "metadata": {
        "colab": {
          "base_uri": "https://localhost:8080/"
        },
        "id": "qOXMIDWTv_xl",
        "outputId": "cadfa9ac-5688-4608-940e-557f752b8f00"
      },
      "execution_count": 17,
      "outputs": [
        {
          "output_type": "stream",
          "name": "stdout",
          "text": [
            "Looking in indexes: https://pypi.org/simple, https://us-python.pkg.dev/colab-wheels/public/simple/\n",
            "Requirement already satisfied: rouge in /usr/local/lib/python3.8/dist-packages (1.0.1)\n",
            "Requirement already satisfied: six in /usr/local/lib/python3.8/dist-packages (from rouge) (1.15.0)\n"
          ]
        }
      ]
    },
    {
      "cell_type": "code",
      "source": [
        "from rouge import Rouge"
      ],
      "metadata": {
        "id": "k6nIfxBkwFgf"
      },
      "execution_count": 18,
      "outputs": []
    },
    {
      "cell_type": "code",
      "source": [
        "reference =\"Flames and a large plume of smoke could be seen in the Kent area Friday as crews worked to extinguish a massive fire in the Historic Mill District. The fire broke out at Star of the West Milling Co. building at 162 N Water Street just before 9 a.m. Kent Fire Chief Bill Myers said that 3 minutes after firefighters arrived at the scene, there was an explosion. It’s not clear what caused it.The structure of the building was compromised after the explosion, so crews couldn’t go inside it. They worked on extinguishing the fire from the outside, the fire chief said.Chief Myers said they are also having some water supply issues. According to the chief, fighting the fire was taxing the water supply, so they were trying to reduce their use. The chief said fire operations could stretch into Saturday.No one was hurt in the fire. It’s unclear how the building was currently being used. The chief said no evacuations were issued. Kent State University issued an alert saying there is no threat to the campus but to avoid the downtown area.The cause of the fire is unknown.Named after the Williams Brothers in 1879, the Mill District of Kent, Ohio says the mill once produced hundreds of millions of pounds of flour. The iconic grain elevators are a well-known fixture in the city’s skyline.\""
      ],
      "metadata": {
        "id": "CgoRs9t-wJSK"
      },
      "execution_count": 19,
      "outputs": []
    },
    {
      "cell_type": "code",
      "source": [
        "ROUGE = Rouge()\n",
        "ROUGE.get_scores(summary,reference)"
      ],
      "metadata": {
        "colab": {
          "base_uri": "https://localhost:8080/"
        },
        "id": "If9qtmD8wPcY",
        "outputId": "f36238f9-711e-413f-d478-ebf51544a8e0"
      },
      "execution_count": 20,
      "outputs": [
        {
          "output_type": "execute_result",
          "data": {
            "text/plain": [
              "[{'rouge-1': {'r': 0.5944055944055944, 'p': 1.0, 'f': 0.7456140304112804},\n",
              "  'rouge-2': {'r': 0.5188679245283019, 'p': 1.0, 'f': 0.683229809166313},\n",
              "  'rouge-l': {'r': 0.5944055944055944, 'p': 1.0, 'f': 0.7456140304112804}}]"
            ]
          },
          "metadata": {},
          "execution_count": 20
        }
      ]
    },
    {
      "cell_type": "markdown",
      "source": [
        "#Latent Semantic Analysis"
      ],
      "metadata": {
        "id": "4Wvp0Oeywd4Y"
      }
    },
    {
      "cell_type": "code",
      "source": [
        "!pip install sumy"
      ],
      "metadata": {
        "colab": {
          "base_uri": "https://localhost:8080/"
        },
        "id": "wOkEOAc4wjWI",
        "outputId": "fed2c74d-a40b-46c8-ac83-7b6df1b9cd06"
      },
      "execution_count": 21,
      "outputs": [
        {
          "output_type": "stream",
          "name": "stdout",
          "text": [
            "Looking in indexes: https://pypi.org/simple, https://us-python.pkg.dev/colab-wheels/public/simple/\n",
            "Requirement already satisfied: sumy in /usr/local/lib/python3.8/dist-packages (0.11.0)\n",
            "Requirement already satisfied: nltk>=3.0.2 in /usr/local/lib/python3.8/dist-packages (from sumy) (3.7)\n",
            "Requirement already satisfied: breadability>=0.1.20 in /usr/local/lib/python3.8/dist-packages (from sumy) (0.1.20)\n",
            "Requirement already satisfied: docopt<0.7,>=0.6.1 in /usr/local/lib/python3.8/dist-packages (from sumy) (0.6.2)\n",
            "Requirement already satisfied: requests>=2.7.0 in /usr/local/lib/python3.8/dist-packages (from sumy) (2.23.0)\n",
            "Requirement already satisfied: pycountry>=18.2.23 in /usr/local/lib/python3.8/dist-packages (from sumy) (22.3.5)\n",
            "Requirement already satisfied: lxml>=2.0 in /usr/local/lib/python3.8/dist-packages (from breadability>=0.1.20->sumy) (4.9.1)\n",
            "Requirement already satisfied: chardet in /usr/local/lib/python3.8/dist-packages (from breadability>=0.1.20->sumy) (3.0.4)\n",
            "Requirement already satisfied: tqdm in /usr/local/lib/python3.8/dist-packages (from nltk>=3.0.2->sumy) (4.64.1)\n",
            "Requirement already satisfied: joblib in /usr/local/lib/python3.8/dist-packages (from nltk>=3.0.2->sumy) (1.2.0)\n",
            "Requirement already satisfied: regex>=2021.8.3 in /usr/local/lib/python3.8/dist-packages (from nltk>=3.0.2->sumy) (2022.6.2)\n",
            "Requirement already satisfied: click in /usr/local/lib/python3.8/dist-packages (from nltk>=3.0.2->sumy) (7.1.2)\n",
            "Requirement already satisfied: setuptools in /usr/local/lib/python3.8/dist-packages (from pycountry>=18.2.23->sumy) (57.4.0)\n",
            "Requirement already satisfied: urllib3!=1.25.0,!=1.25.1,<1.26,>=1.21.1 in /usr/local/lib/python3.8/dist-packages (from requests>=2.7.0->sumy) (1.24.3)\n",
            "Requirement already satisfied: idna<3,>=2.5 in /usr/local/lib/python3.8/dist-packages (from requests>=2.7.0->sumy) (2.10)\n",
            "Requirement already satisfied: certifi>=2017.4.17 in /usr/local/lib/python3.8/dist-packages (from requests>=2.7.0->sumy) (2022.9.24)\n"
          ]
        }
      ]
    },
    {
      "cell_type": "code",
      "source": [
        "import sumy\n",
        "import nltk\n",
        "nltk.download('punkt')\n",
        "from sumy.summarizers.lsa import LsaSummarizer\n",
        "from sumy.nlp.tokenizers import Tokenizer\n",
        "from sumy.parsers.plaintext import PlaintextParser"
      ],
      "metadata": {
        "colab": {
          "base_uri": "https://localhost:8080/"
        },
        "id": "bKdYFK0mwnXs",
        "outputId": "4ced94a4-c20c-4028-8540-9263fb255adf"
      },
      "execution_count": 22,
      "outputs": [
        {
          "output_type": "stream",
          "name": "stderr",
          "text": [
            "[nltk_data] Downloading package punkt to /root/nltk_data...\n",
            "[nltk_data]   Package punkt is already up-to-date!\n"
          ]
        }
      ]
    },
    {
      "cell_type": "code",
      "source": [
        "source_material = \"Flames and a large plume of smoke could be seen in the Kent area Friday as crews worked to extinguish a massive fire in the Historic Mill District. The fire broke out at Star of the West Milling Co. building at 162 N Water Street just before 9 a.m. Kent Fire Chief Bill Myers said that 3 minutes after firefighters arrived at the scene, there was an explosion. It’s not clear what caused it.The structure of the building was compromised after the explosion, so crews couldn’t go inside it. They worked on extinguishing the fire from the outside, the fire chief said.Chief Myers said they are also having some water supply issues. According to the chief, fighting the fire was taxing the water supply, so they were trying to reduce their use. The chief said fire operations could stretch into Saturday.No one was hurt in the fire. It’s unclear how the building was currently being used. The chief said no evacuations were issued. Kent State University issued an alert saying there is no threat to the campus but to avoid the downtown area.The cause of the fire is unknown.Named after the Williams Brothers in 1879, the Mill District of Kent, Ohio says the mill once produced hundreds of millions of pounds of flour. The iconic grain elevators are a well-known fixture in the city’s skyline.\""
      ],
      "metadata": {
        "id": "Zo2OUMuiwqPj"
      },
      "execution_count": 23,
      "outputs": []
    },
    {
      "cell_type": "code",
      "source": [
        "LANGUAGE = \"english\"\n",
        "parser = PlaintextParser.from_string(source_material,Tokenizer(LANGUAGE))"
      ],
      "metadata": {
        "id": "JfI-P97Gw0LO"
      },
      "execution_count": 24,
      "outputs": []
    },
    {
      "cell_type": "code",
      "source": [
        "summarizer = LsaSummarizer()"
      ],
      "metadata": {
        "id": "PSWZ3bIXw3Su"
      },
      "execution_count": 25,
      "outputs": []
    },
    {
      "cell_type": "code",
      "source": [
        "testsummary = summarizer(parser.document,sentences_count=4)"
      ],
      "metadata": {
        "id": "MNtpChTow5hr"
      },
      "execution_count": 26,
      "outputs": []
    },
    {
      "cell_type": "code",
      "source": [
        "summary = \"\"\n",
        "for sentence in testsummary:\n",
        "  summary+=str(sentence)\n",
        "print(summary)"
      ],
      "metadata": {
        "colab": {
          "base_uri": "https://localhost:8080/"
        },
        "id": "i-S6KSB5xAPG",
        "outputId": "b3536e62-17e4-4777-c9d0-aadbf19bfb1c"
      },
      "execution_count": 28,
      "outputs": [
        {
          "output_type": "stream",
          "name": "stdout",
          "text": [
            "Flames and a large plume of smoke could be seen in the Kent area Friday as crews worked to extinguish a massive fire in the Historic Mill District.The fire broke out at Star of the West Milling Co. building at 162 N Water Street just before 9 a.m. Kent Fire Chief Bill Myers said that 3 minutes after firefighters arrived at the scene, there was an explosion.It’s not clear what caused it.The structure of the building was compromised after the explosion, so crews couldn’t go inside it.It’s unclear how the building was currently being used.\n"
          ]
        }
      ]
    },
    {
      "cell_type": "code",
      "source": [
        "!pip install rouge"
      ],
      "metadata": {
        "colab": {
          "base_uri": "https://localhost:8080/"
        },
        "id": "_hKcEcuBxdxN",
        "outputId": "37a55f6c-e834-4e8a-9025-9add2ddef170"
      },
      "execution_count": 29,
      "outputs": [
        {
          "output_type": "stream",
          "name": "stdout",
          "text": [
            "Looking in indexes: https://pypi.org/simple, https://us-python.pkg.dev/colab-wheels/public/simple/\n",
            "Requirement already satisfied: rouge in /usr/local/lib/python3.8/dist-packages (1.0.1)\n",
            "Requirement already satisfied: six in /usr/local/lib/python3.8/dist-packages (from rouge) (1.15.0)\n"
          ]
        }
      ]
    },
    {
      "cell_type": "code",
      "source": [
        "from rouge import Rouge"
      ],
      "metadata": {
        "id": "W0xhNf-xxhYt"
      },
      "execution_count": 30,
      "outputs": []
    },
    {
      "cell_type": "code",
      "source": [
        "reference = \"Flames and a large plume of smoke could be seen in the Kent area Friday as crews worked to extinguish a massive fire in the Historic Mill District. The fire broke out at Star of the West Milling Co. building at 162 N Water Street just before 9 a.m. Kent Fire Chief Bill Myers said that 3 minutes after firefighters arrived at the scene, there was an explosion. It’s not clear what caused it.The structure of the building was compromised after the explosion, so crews couldn’t go inside it. They worked on extinguishing the fire from the outside, the fire chief said.Chief Myers said they are also having some water supply issues. According to the chief, fighting the fire was taxing the water supply, so they were trying to reduce their use. The chief said fire operations could stretch into Saturday.No one was hurt in the fire. It’s unclear how the building was currently being used. The chief said no evacuations were issued. Kent State University issued an alert saying there is no threat to the campus but to avoid the downtown area.The cause of the fire is unknown.Named after the Williams Brothers in 1879, the Mill District of Kent, Ohio says the mill once produced hundreds of millions of pounds of flour. The iconic grain elevators are a well-known fixture in the city’s skyline.\""
      ],
      "metadata": {
        "id": "W2yG8v_1xkA8"
      },
      "execution_count": 31,
      "outputs": []
    },
    {
      "cell_type": "code",
      "source": [
        "ROUGE = Rouge()\n",
        "ROUGE.get_scores(summary,reference)"
      ],
      "metadata": {
        "colab": {
          "base_uri": "https://localhost:8080/"
        },
        "id": "Ww2f3fKaxtok",
        "outputId": "b9151f09-5543-4e64-ba58-a9463643d1a1"
      },
      "execution_count": 33,
      "outputs": [
        {
          "output_type": "execute_result",
          "data": {
            "text/plain": [
              "[{'rouge-1': {'r': 0.5314685314685315, 'p': 1.0, 'f': 0.6940639224086237},\n",
              "  'rouge-2': {'r': 0.44339622641509435,\n",
              "   'p': 0.9894736842105263,\n",
              "   'f': 0.6123778458890812},\n",
              "  'rouge-l': {'r': 0.5314685314685315, 'p': 1.0, 'f': 0.6940639224086237}}]"
            ]
          },
          "metadata": {},
          "execution_count": 33
        }
      ]
    },
    {
      "cell_type": "markdown",
      "source": [
        "#Kullback-Leibler Sum"
      ],
      "metadata": {
        "id": "tJVeAGEMx0Qi"
      }
    },
    {
      "cell_type": "code",
      "source": [
        "!pip install sumy\n",
        "\n",
        "\n"
      ],
      "metadata": {
        "colab": {
          "base_uri": "https://localhost:8080/"
        },
        "id": "vMC_LYkVx6Mw",
        "outputId": "2ecfad79-8bd6-43b6-84e6-9519e1d37b8d"
      },
      "execution_count": 34,
      "outputs": [
        {
          "output_type": "stream",
          "name": "stdout",
          "text": [
            "Looking in indexes: https://pypi.org/simple, https://us-python.pkg.dev/colab-wheels/public/simple/\n",
            "Requirement already satisfied: sumy in /usr/local/lib/python3.8/dist-packages (0.11.0)\n",
            "Requirement already satisfied: docopt<0.7,>=0.6.1 in /usr/local/lib/python3.8/dist-packages (from sumy) (0.6.2)\n",
            "Requirement already satisfied: breadability>=0.1.20 in /usr/local/lib/python3.8/dist-packages (from sumy) (0.1.20)\n",
            "Requirement already satisfied: requests>=2.7.0 in /usr/local/lib/python3.8/dist-packages (from sumy) (2.23.0)\n",
            "Requirement already satisfied: pycountry>=18.2.23 in /usr/local/lib/python3.8/dist-packages (from sumy) (22.3.5)\n",
            "Requirement already satisfied: nltk>=3.0.2 in /usr/local/lib/python3.8/dist-packages (from sumy) (3.7)\n",
            "Requirement already satisfied: chardet in /usr/local/lib/python3.8/dist-packages (from breadability>=0.1.20->sumy) (3.0.4)\n",
            "Requirement already satisfied: lxml>=2.0 in /usr/local/lib/python3.8/dist-packages (from breadability>=0.1.20->sumy) (4.9.1)\n",
            "Requirement already satisfied: regex>=2021.8.3 in /usr/local/lib/python3.8/dist-packages (from nltk>=3.0.2->sumy) (2022.6.2)\n",
            "Requirement already satisfied: click in /usr/local/lib/python3.8/dist-packages (from nltk>=3.0.2->sumy) (7.1.2)\n",
            "Requirement already satisfied: joblib in /usr/local/lib/python3.8/dist-packages (from nltk>=3.0.2->sumy) (1.2.0)\n",
            "Requirement already satisfied: tqdm in /usr/local/lib/python3.8/dist-packages (from nltk>=3.0.2->sumy) (4.64.1)\n",
            "Requirement already satisfied: setuptools in /usr/local/lib/python3.8/dist-packages (from pycountry>=18.2.23->sumy) (57.4.0)\n",
            "Requirement already satisfied: urllib3!=1.25.0,!=1.25.1,<1.26,>=1.21.1 in /usr/local/lib/python3.8/dist-packages (from requests>=2.7.0->sumy) (1.24.3)\n",
            "Requirement already satisfied: certifi>=2017.4.17 in /usr/local/lib/python3.8/dist-packages (from requests>=2.7.0->sumy) (2022.9.24)\n",
            "Requirement already satisfied: idna<3,>=2.5 in /usr/local/lib/python3.8/dist-packages (from requests>=2.7.0->sumy) (2.10)\n"
          ]
        }
      ]
    },
    {
      "cell_type": "code",
      "source": [
        "\n",
        "import sumy\n",
        "import nltk\n",
        "nltk.download('punkt')\n",
        "from sumy.summarizers.kl import KLSummarizer\n",
        "from sumy.nlp.tokenizers import Tokenizer\n",
        "from sumy.parsers.plaintext import PlaintextParser"
      ],
      "metadata": {
        "colab": {
          "base_uri": "https://localhost:8080/"
        },
        "id": "OXsFt6gpyIc_",
        "outputId": "ccae6a76-a324-4316-cc66-8786aa5f9245"
      },
      "execution_count": 35,
      "outputs": [
        {
          "output_type": "stream",
          "name": "stderr",
          "text": [
            "[nltk_data] Downloading package punkt to /root/nltk_data...\n",
            "[nltk_data]   Package punkt is already up-to-date!\n"
          ]
        }
      ]
    },
    {
      "cell_type": "code",
      "source": [
        "source_material = \"Flames and a large plume of smoke could be seen in the Kent area Friday as crews worked to extinguish a massive fire in the Historic Mill District. The fire broke out at Star of the West Milling Co. building at 162 N Water Street just before 9 a.m. Kent Fire Chief Bill Myers said that 3 minutes after firefighters arrived at the scene, there was an explosion. It’s not clear what caused it.The structure of the building was compromised after the explosion, so crews couldn’t go inside it. They worked on extinguishing the fire from the outside, the fire chief said.Chief Myers said they are also having some water supply issues. According to the chief, fighting the fire was taxing the water supply, so they were trying to reduce their use. The chief said fire operations could stretch into Saturday.No one was hurt in the fire. It’s unclear how the building was currently being used. The chief said no evacuations were issued. Kent State University issued an alert saying there is no threat to the campus but to avoid the downtown area.The cause of the fire is unknown.Named after the Williams Brothers in 1879, the Mill District of Kent, Ohio says the mill once produced hundreds of millions of pounds of flour. The iconic grain elevators are a well-known fixture in the city’s skyline.\""
      ],
      "metadata": {
        "id": "rgm7zUvOyLaD"
      },
      "execution_count": 36,
      "outputs": []
    },
    {
      "cell_type": "code",
      "source": [
        "LANGUAGE = 'english'\n",
        "parser = PlaintextParser.from_string(source_material,Tokenizer(LANGUAGE))"
      ],
      "metadata": {
        "id": "ts3xNf3_yS8V"
      },
      "execution_count": 37,
      "outputs": []
    },
    {
      "cell_type": "code",
      "source": [
        "summarizer = KLSummarizer()"
      ],
      "metadata": {
        "id": "-U0dppdAyVt9"
      },
      "execution_count": 38,
      "outputs": []
    },
    {
      "cell_type": "code",
      "source": [
        "testsummary = summarizer(parser.document,sentences_count=6)"
      ],
      "metadata": {
        "id": "uBP5WCiuyWuy"
      },
      "execution_count": 39,
      "outputs": []
    },
    {
      "cell_type": "code",
      "source": [
        "summary = \"\"\n",
        "for sentence in testsummary:\n",
        "  summary+=str(sentence)\n",
        "print(summary)"
      ],
      "metadata": {
        "colab": {
          "base_uri": "https://localhost:8080/"
        },
        "id": "U3LMAHF7yarL",
        "outputId": "7f538943-eec8-4a4e-99a6-bd18bd3a921b"
      },
      "execution_count": 40,
      "outputs": [
        {
          "output_type": "stream",
          "name": "stdout",
          "text": [
            "They worked on extinguishing the fire from the outside, the fire chief said.Chief Myers said they are also having some water supply issues.According to the chief, fighting the fire was taxing the water supply, so they were trying to reduce their use.The chief said fire operations could stretch into Saturday.No one was hurt in the fire.It’s unclear how the building was currently being used.The chief said no evacuations were issued.The iconic grain elevators are a well-known fixture in the city’s skyline.\n"
          ]
        }
      ]
    },
    {
      "cell_type": "code",
      "source": [
        "!pip install rouge\n"
      ],
      "metadata": {
        "colab": {
          "base_uri": "https://localhost:8080/"
        },
        "id": "rypNWh4Eyl-m",
        "outputId": "a86139b9-82d1-4c9d-91cb-667bbc677439"
      },
      "execution_count": 41,
      "outputs": [
        {
          "output_type": "stream",
          "name": "stdout",
          "text": [
            "Looking in indexes: https://pypi.org/simple, https://us-python.pkg.dev/colab-wheels/public/simple/\n",
            "Requirement already satisfied: rouge in /usr/local/lib/python3.8/dist-packages (1.0.1)\n",
            "Requirement already satisfied: six in /usr/local/lib/python3.8/dist-packages (from rouge) (1.15.0)\n"
          ]
        }
      ]
    },
    {
      "cell_type": "code",
      "source": [
        "\n",
        "\n",
        "from rouge import Rouge\n"
      ],
      "metadata": {
        "id": "44C3K4GUypUY"
      },
      "execution_count": 42,
      "outputs": []
    },
    {
      "cell_type": "code",
      "source": [
        "\n",
        "\n",
        "reference = \"Flames and a large plume of smoke could be seen in the Kent area Friday as crews worked to extinguish a massive fire in the Historic Mill District. The fire broke out at Star of the West Milling Co. building at 162 N Water Street just before 9 a.m. Kent Fire Chief Bill Myers said that 3 minutes after firefighters arrived at the scene, there was an explosion. It’s not clear what caused it.The structure of the building was compromised after the explosion, so crews couldn’t go inside it. They worked on extinguishing the fire from the outside, the fire chief said.Chief Myers said they are also having some water supply issues. According to the chief, fighting the fire was taxing the water supply, so they were trying to reduce their use. The chief said fire operations could stretch into Saturday.No one was hurt in the fire. It’s unclear how the building was currently being used. The chief said no evacuations were issued. Kent State University issued an alert saying there is no threat to the campus but to avoid the downtown area.The cause of the fire is unknown.Named after the Williams Brothers in 1879, the Mill District of Kent, Ohio says the mill once produced hundreds of millions of pounds of flour. The iconic grain elevators are a well-known fixture in the city’s skyline.\""
      ],
      "metadata": {
        "id": "VRk1V0zeyubu"
      },
      "execution_count": 43,
      "outputs": []
    },
    {
      "cell_type": "code",
      "source": [
        "ROUGE = Rouge()\n",
        "ROUGE.get_scores(summary,reference)"
      ],
      "metadata": {
        "colab": {
          "base_uri": "https://localhost:8080/"
        },
        "id": "uOD9r_0Ly8dH",
        "outputId": "90bf6ea6-61aa-40f9-f196-8969b99d9975"
      },
      "execution_count": 44,
      "outputs": [
        {
          "output_type": "execute_result",
          "data": {
            "text/plain": [
              "[{'rouge-1': {'r': 0.42657342657342656, 'p': 1.0, 'f': 0.5980392114941369},\n",
              "  'rouge-2': {'r': 0.37264150943396224, 'p': 0.9875, 'f': 0.5410958864327267},\n",
              "  'rouge-l': {'r': 0.42657342657342656, 'p': 1.0, 'f': 0.5980392114941369}}]"
            ]
          },
          "metadata": {},
          "execution_count": 44
        }
      ]
    },
    {
      "cell_type": "markdown",
      "source": [
        "#T5 Transformer MOdel"
      ],
      "metadata": {
        "id": "lB4yDkOvzBHT"
      }
    },
    {
      "cell_type": "code",
      "source": [
        "!pip install transformers\n",
        "!pip install sentencepiece"
      ],
      "metadata": {
        "colab": {
          "base_uri": "https://localhost:8080/"
        },
        "id": "XerFYdFgzFGP",
        "outputId": "3ff00316-0594-4d06-9b54-da63aabb6441"
      },
      "execution_count": 45,
      "outputs": [
        {
          "output_type": "stream",
          "name": "stdout",
          "text": [
            "Looking in indexes: https://pypi.org/simple, https://us-python.pkg.dev/colab-wheels/public/simple/\n",
            "Collecting transformers\n",
            "  Downloading transformers-4.25.1-py3-none-any.whl (5.8 MB)\n",
            "\u001b[K     |████████████████████████████████| 5.8 MB 24.6 MB/s \n",
            "\u001b[?25hRequirement already satisfied: tqdm>=4.27 in /usr/local/lib/python3.8/dist-packages (from transformers) (4.64.1)\n",
            "Requirement already satisfied: pyyaml>=5.1 in /usr/local/lib/python3.8/dist-packages (from transformers) (6.0)\n",
            "Requirement already satisfied: numpy>=1.17 in /usr/local/lib/python3.8/dist-packages (from transformers) (1.21.6)\n",
            "Requirement already satisfied: requests in /usr/local/lib/python3.8/dist-packages (from transformers) (2.23.0)\n",
            "Requirement already satisfied: filelock in /usr/local/lib/python3.8/dist-packages (from transformers) (3.8.0)\n",
            "Collecting huggingface-hub<1.0,>=0.10.0\n",
            "  Downloading huggingface_hub-0.11.1-py3-none-any.whl (182 kB)\n",
            "\u001b[K     |████████████████████████████████| 182 kB 79.4 MB/s \n",
            "\u001b[?25hRequirement already satisfied: packaging>=20.0 in /usr/local/lib/python3.8/dist-packages (from transformers) (21.3)\n",
            "Collecting tokenizers!=0.11.3,<0.14,>=0.11.1\n",
            "  Downloading tokenizers-0.13.2-cp38-cp38-manylinux_2_17_x86_64.manylinux2014_x86_64.whl (7.6 MB)\n",
            "\u001b[K     |████████████████████████████████| 7.6 MB 60.7 MB/s \n",
            "\u001b[?25hRequirement already satisfied: regex!=2019.12.17 in /usr/local/lib/python3.8/dist-packages (from transformers) (2022.6.2)\n",
            "Requirement already satisfied: typing-extensions>=3.7.4.3 in /usr/local/lib/python3.8/dist-packages (from huggingface-hub<1.0,>=0.10.0->transformers) (4.1.1)\n",
            "Requirement already satisfied: pyparsing!=3.0.5,>=2.0.2 in /usr/local/lib/python3.8/dist-packages (from packaging>=20.0->transformers) (3.0.9)\n",
            "Requirement already satisfied: idna<3,>=2.5 in /usr/local/lib/python3.8/dist-packages (from requests->transformers) (2.10)\n",
            "Requirement already satisfied: certifi>=2017.4.17 in /usr/local/lib/python3.8/dist-packages (from requests->transformers) (2022.9.24)\n",
            "Requirement already satisfied: urllib3!=1.25.0,!=1.25.1,<1.26,>=1.21.1 in /usr/local/lib/python3.8/dist-packages (from requests->transformers) (1.24.3)\n",
            "Requirement already satisfied: chardet<4,>=3.0.2 in /usr/local/lib/python3.8/dist-packages (from requests->transformers) (3.0.4)\n",
            "Installing collected packages: tokenizers, huggingface-hub, transformers\n",
            "Successfully installed huggingface-hub-0.11.1 tokenizers-0.13.2 transformers-4.25.1\n",
            "Looking in indexes: https://pypi.org/simple, https://us-python.pkg.dev/colab-wheels/public/simple/\n",
            "Collecting sentencepiece\n",
            "  Downloading sentencepiece-0.1.97-cp38-cp38-manylinux_2_17_x86_64.manylinux2014_x86_64.whl (1.3 MB)\n",
            "\u001b[K     |████████████████████████████████| 1.3 MB 33.0 MB/s \n",
            "\u001b[?25hInstalling collected packages: sentencepiece\n",
            "Successfully installed sentencepiece-0.1.97\n"
          ]
        }
      ]
    },
    {
      "cell_type": "code",
      "source": [
        "import torch\n",
        "import json\n",
        "from transformers import T5Tokenizer, T5Config, T5ForConditionalGeneration"
      ],
      "metadata": {
        "id": "ceMBdAhrzMS8"
      },
      "execution_count": 46,
      "outputs": []
    },
    {
      "cell_type": "code",
      "source": [
        "source_material = \"Flames and a large plume of smoke could be seen in the Kent area Friday as crews worked to extinguish a massive fire in the Historic Mill District. The fire broke out at Star of the West Milling Co. building at 162 N Water Street just before 9 a.m. Kent Fire Chief Bill Myers said that 3 minutes after firefighters arrived at the scene, there was an explosion. It’s not clear what caused it.The structure of the building was compromised after the explosion, so crews couldn’t go inside it. They worked on extinguishing the fire from the outside, the fire chief said.Chief Myers said they are also having some water supply issues. According to the chief, fighting the fire was taxing the water supply, so they were trying to reduce their use. The chief said fire operations could stretch into Saturday.No one was hurt in the fire. It’s unclear how the building was currently being used. The chief said no evacuations were issued. Kent State University issued an alert saying there is no threat to the campus but to avoid the downtown area.The cause of the fire is unknown.Named after the Williams Brothers in 1879, the Mill District of Kent, Ohio says the mill once produced hundreds of millions of pounds of flour. The iconic grain elevators are a well-known fixture in the city’s skyline.\""
      ],
      "metadata": {
        "id": "MeV8GQUCzNkc"
      },
      "execution_count": 47,
      "outputs": []
    },
    {
      "cell_type": "code",
      "source": [
        "device = torch.device('cpu')"
      ],
      "metadata": {
        "id": "oxOjfX5nzWXP"
      },
      "execution_count": 48,
      "outputs": []
    },
    {
      "cell_type": "code",
      "source": [
        "\n",
        "summarizer = T5ForConditionalGeneration.from_pretrained('t5-base')\n",
        "tokenizer = T5Tokenizer.from_pretrained('t5-base')"
      ],
      "metadata": {
        "colab": {
          "base_uri": "https://localhost:8080/",
          "height": 240,
          "referenced_widgets": [
            "542d77e3f0b04abeae1ffe09227e0fd2",
            "cd9075f1ad004098963f88a9eeff9e32",
            "454f30b800ec4f22adc1a3fc0adf7944",
            "406aa534ae3c498f95dd75c76ecb7f7d",
            "2566f61a677c418eb1ed280aaf6bbd3d",
            "b056e767a4c845debe94a2208e363882",
            "451f32a19dea4d748fac92ba4d7ec2ac",
            "1b2efc327e884969b59c1953f193070f",
            "dc8b59e6edb445a0acf25d6e1264661e",
            "a484c0ea75124a9092f99d6e8fcab78e",
            "2930d2be3b5646cda46a0d658c1e96f5",
            "e52c05924d3f41c6949a4cd5655b3c2e",
            "855d4af43e4a4c15ae492c102b0813da",
            "3498169c53c246bb98591b1c09813c7c",
            "f590541868ab4fc7b3372974337b3daf",
            "ad723ec78d684ea085e96b5def1ce868",
            "8d29f8e67b7d43a38bdeeab0f59330a5",
            "7e4140facf8c465d9df6e8b04ca5b5d8",
            "9da99fc9f98e454bb082b683fe307143",
            "fd1ce68fc5d84f269f02b5f2a14f62c0",
            "f7cc53ed938e4ff3b3a8d16ade60a46e",
            "2414f6e867cd4a738b8a6684b9f488c2",
            "64853cfb830b4100bc5270c37e048e36",
            "e2da81d3326f419194065aed051f68f0",
            "da30a1da51084654b6d077d94369fed1",
            "becad3fb68dc47b3b7d7cee027739ff1",
            "aa2332d418784b1694650d9bd4fbf44e",
            "8e5279aec31b4c90a4823bf928739e59",
            "56c0fb4553d549b6bebb0d937c14c872",
            "e04e9b45e5bb42bdb058b01523793540",
            "279feeb4086a47299fac8319eb21a697",
            "c807b7471d454a02aac547804d6f9ab0",
            "eb2e3175b34547238357cf62a1a4da53"
          ]
        },
        "id": "XS2qXLSGzXgH",
        "outputId": "1d2b0d82-7b09-4a74-d5e1-f462f7b899c9"
      },
      "execution_count": 49,
      "outputs": [
        {
          "output_type": "display_data",
          "data": {
            "text/plain": [
              "Downloading:   0%|          | 0.00/1.20k [00:00<?, ?B/s]"
            ],
            "application/vnd.jupyter.widget-view+json": {
              "version_major": 2,
              "version_minor": 0,
              "model_id": "542d77e3f0b04abeae1ffe09227e0fd2"
            }
          },
          "metadata": {}
        },
        {
          "output_type": "display_data",
          "data": {
            "text/plain": [
              "Downloading:   0%|          | 0.00/892M [00:00<?, ?B/s]"
            ],
            "application/vnd.jupyter.widget-view+json": {
              "version_major": 2,
              "version_minor": 0,
              "model_id": "e52c05924d3f41c6949a4cd5655b3c2e"
            }
          },
          "metadata": {}
        },
        {
          "output_type": "display_data",
          "data": {
            "text/plain": [
              "Downloading:   0%|          | 0.00/792k [00:00<?, ?B/s]"
            ],
            "application/vnd.jupyter.widget-view+json": {
              "version_major": 2,
              "version_minor": 0,
              "model_id": "64853cfb830b4100bc5270c37e048e36"
            }
          },
          "metadata": {}
        },
        {
          "output_type": "stream",
          "name": "stderr",
          "text": [
            "/usr/local/lib/python3.8/dist-packages/transformers/models/t5/tokenization_t5.py:163: FutureWarning: This tokenizer was incorrectly instantiated with a model max length of 512 which will be corrected in Transformers v5.\n",
            "For now, this behavior is kept to avoid breaking backwards compatibility when padding/encoding with `truncation is True`.\n",
            "- Be aware that you SHOULD NOT rely on t5-base automatically truncating your input to 512 when padding/encoding.\n",
            "- If you want to encode/pad to sequences longer than 512 you can either instantiate this tokenizer with `model_max_length` or pass `max_length` when encoding/padding.\n",
            "- To avoid this warning, please instantiate this tokenizer with `model_max_length` set to your preferred value.\n",
            "  warnings.warn(\n"
          ]
        }
      ]
    },
    {
      "cell_type": "code",
      "source": [
        "updated_material = \"summarize:\" + source_material"
      ],
      "metadata": {
        "id": "FbvnPHSOzgGo"
      },
      "execution_count": 50,
      "outputs": []
    },
    {
      "cell_type": "code",
      "source": [
        "tokenized_material = tokenizer.encode(updated_material, return_tensors=\"pt\").to(device)\n"
      ],
      "metadata": {
        "id": "VbaS61X3zusB"
      },
      "execution_count": 51,
      "outputs": []
    },
    {
      "cell_type": "code",
      "source": [
        "print(tokenized_material)\n"
      ],
      "metadata": {
        "colab": {
          "base_uri": "https://localhost:8080/"
        },
        "id": "4Y7gWCDLzvtJ",
        "outputId": "5221a831-3e03-4330-b584-e8a680bddd96"
      },
      "execution_count": 52,
      "outputs": [
        {
          "output_type": "stream",
          "name": "stdout",
          "text": [
            "tensor([[21603,    10,   371,   521,  2687,    11,     3,     9,   508,  3681,\n",
            "           526,    13,  7269,   228,    36,   894,    16,     8, 14599,   616,\n",
            "          1701,    38,  4627,     7,  1279,    12,  1215,  1222,    76,  1273,\n",
            "             3,     9,  3805,  1472,    16,     8, 19923,  4185,  3570,     5,\n",
            "            37,  1472,  8238,    91,    44,  2042,    13,     8,  1244,  4185,\n",
            "            53,   638,     5,   740,    44,   898,   357,   445,  2336,  1887,\n",
            "           131,   274,   668,     3,     9,     5,    51,     5, 14599,  3655,\n",
            "          5116,  3259,   499,   277,   243,    24,   220,   676,   227, 29764,\n",
            "          4363,    44,     8,  3112,     6,   132,    47,    46, 16813,     5,\n",
            "            94,    22,     7,    59,   964,   125,  2953,    34,     5,   634,\n",
            "          1809,    13,     8,   740,    47, 22001,   227,     8, 16813,     6,\n",
            "            78,  4627,     7,  2654,    22,    17,   281,  1096,    34,     5,\n",
            "           328,  1279,    30,  1215,  1222,    76,  1273,    53,     8,  1472,\n",
            "            45,     8,  1067,     6,     8,  1472,  5752,   243,     5,  3541,\n",
            "            23,    15,    89,   499,   277,   243,    79,    33,    92,   578,\n",
            "           128,   387,  1899,   807,     5,  2150,    12,     8,  5752,     6,\n",
            "          6237,     8,  1472,    47,  1104,    53,     8,   387,  1899,     6,\n",
            "            78,    79,   130,  1119,    12,  1428,    70,   169,     5,    37,\n",
            "          5752,   243,  1472,  2673,   228,  6606,   139,  1856,     5,  4168,\n",
            "            80,    47,  4781,    16,     8,  1472,     5,    94,    22,     7,\n",
            "         19363,   149,     8,   740,    47,  1083,   271,   261,     5,    37,\n",
            "          5752,   243,   150, 29967,     7,   130,  4683,     5, 14599,  1015,\n",
            "           636,  4683,    46,  5685,  2145,   132,    19,   150,  5888,    12,\n",
            "             8,  4730,    68,    12,  1792,     8,  7092,   616,     5,   634,\n",
            "          1137,    13,     8,  1472,    19,  7752,     5, 23954,    26,   227,\n",
            "             8,  6060, 17491,    16,   507,  4440,     6,     8,  4185,  3570,\n",
            "            13, 14599,     6,  6167,   845,     8,  3293,   728,  2546,  3986,\n",
            "            13,  4040,    13,  7051,    13,  7055,     5,    37, 10331,  8273,\n",
            "         19967,     7,    33,     3,     9,   168,    18,  5661, 20420,    16,\n",
            "             8,   690,    22,     7,  5796,   747,     5,     1]])\n"
          ]
        }
      ]
    },
    {
      "cell_type": "code",
      "source": [
        "tokenized_summary = summarizer.generate(tokenized_material,\n",
        "                                    num_beams=5,\n",
        "                                    no_repeat_ngram_size=2,\n",
        "                                    min_length=100,\n",
        "                                    max_length=120,\n",
        "                                    early_stopping=True)\n"
      ],
      "metadata": {
        "id": "EB46LNk6zyzV"
      },
      "execution_count": 53,
      "outputs": []
    },
    {
      "cell_type": "code",
      "source": [
        "print(tokenized_summary)\n"
      ],
      "metadata": {
        "colab": {
          "base_uri": "https://localhost:8080/"
        },
        "id": "3MGigLzcz8z-",
        "outputId": "222df1dc-3d38-4ac3-e631-f40037bf25e4"
      },
      "execution_count": 54,
      "outputs": [
        {
          "output_type": "stream",
          "name": "stdout",
          "text": [
            "tensor([[    0,     8,  1472,  8238,    91,    44,     8,  2042,    13,     8,\n",
            "          1244,  4185,    53,   638,     5,   740,    44,   898,   357,   445,\n",
            "          2336,  1887,   131,   274,   668,     3,     9,     5,    51,     5,\n",
            "            34,    31,     7, 19363,   149,     8,   740,    47,  1083,   271,\n",
            "           261,     3,     5,   150,    80,    47,  4781,    16,     8,     3,\n",
            "         21020,     6,    11,   150, 29967,     7,    43,   118,  4683,    21,\n",
            "             8,  5441,  3293,  3939,    13, 14599,     6,     3,    32,   107,\n",
            "            23,    32,     6,   213,     8,  3293,   728,  2546,  3986,    13,\n",
            "          4040,    13,  7051,    13,  7055,     5,     8, 10331,  8273, 19967,\n",
            "             7,    33,   168,    18,  5661, 20420,    16,   690,    22,     7,\n",
            "          5796,   747,     5,     1]])\n"
          ]
        }
      ]
    },
    {
      "cell_type": "code",
      "source": [
        "summary = tokenizer.decode(tokenized_summary[0], skip_special_tokens=True)\n"
      ],
      "metadata": {
        "id": "v0czAPttz-Dq"
      },
      "execution_count": 55,
      "outputs": []
    },
    {
      "cell_type": "code",
      "source": [
        "print(summary)\n"
      ],
      "metadata": {
        "colab": {
          "base_uri": "https://localhost:8080/"
        },
        "id": "peFfsGpU0A9W",
        "outputId": "aa557f0c-acb2-4602-c7e5-18332c5fc4f9"
      },
      "execution_count": 57,
      "outputs": [
        {
          "output_type": "stream",
          "name": "stdout",
          "text": [
            "the fire broke out at the Star of the West Milling Co. building at 162 N Water Street just before 9 a.m. it's unclear how the building was currently being used. no one was hurt in the blaze, and no evacuations have been issued for the historic mill district of Kent, ohio, where the mill once produced hundreds of millions of pounds of flour. the iconic grain elevators are well-known fixture in city’s skyline.\n"
          ]
        }
      ]
    },
    {
      "cell_type": "code",
      "source": [
        "!pip install rouge"
      ],
      "metadata": {
        "colab": {
          "base_uri": "https://localhost:8080/"
        },
        "id": "JAyDeWKc0OOl",
        "outputId": "a150d0a2-e914-43b6-f38c-345612a2f321"
      },
      "execution_count": 58,
      "outputs": [
        {
          "output_type": "stream",
          "name": "stdout",
          "text": [
            "Looking in indexes: https://pypi.org/simple, https://us-python.pkg.dev/colab-wheels/public/simple/\n",
            "Requirement already satisfied: rouge in /usr/local/lib/python3.8/dist-packages (1.0.1)\n",
            "Requirement already satisfied: six in /usr/local/lib/python3.8/dist-packages (from rouge) (1.15.0)\n"
          ]
        }
      ]
    },
    {
      "cell_type": "code",
      "source": [
        "from rouge import Rouge\n"
      ],
      "metadata": {
        "id": "PPIo_WhB0QHI"
      },
      "execution_count": 59,
      "outputs": []
    },
    {
      "cell_type": "code",
      "source": [
        "reference = \"Flames and a large plume of smoke could be seen in the Kent area Friday as crews worked to extinguish a massive fire in the Historic Mill District. The fire broke out at Star of the West Milling Co. building at 162 N Water Street just before 9 a.m. Kent Fire Chief Bill Myers said that 3 minutes after firefighters arrived at the scene, there was an explosion. It’s not clear what caused it.The structure of the building was compromised after the explosion, so crews couldn’t go inside it. They worked on extinguishing the fire from the outside, the fire chief said.Chief Myers said they are also having some water supply issues. According to the chief, fighting the fire was taxing the water supply, so they were trying to reduce their use. The chief said fire operations could stretch into Saturday.No one was hurt in the fire. It’s unclear how the building was currently being used. The chief said no evacuations were issued. Kent State University issued an alert saying there is no threat to the campus but to avoid the downtown area.The cause of the fire is unknown.Named after the Williams Brothers in 1879, the Mill District of Kent, Ohio says the mill once produced hundreds of millions of pounds of flour. The iconic grain elevators are a well-known fixture in the city’s skyline.\""
      ],
      "metadata": {
        "id": "y3QIx2Q00Sj7"
      },
      "execution_count": 60,
      "outputs": []
    },
    {
      "cell_type": "code",
      "source": [
        "ROUGE = Rouge()\n",
        "ROUGE.get_scores(summary,reference)\n"
      ],
      "metadata": {
        "colab": {
          "base_uri": "https://localhost:8080/"
        },
        "id": "Vr5l8ffj0bR-",
        "outputId": "9d7c809e-ab69-4577-b1a6-d4d3dc8b6915"
      },
      "execution_count": 61,
      "outputs": [
        {
          "output_type": "execute_result",
          "data": {
            "text/plain": [
              "[{'rouge-1': {'r': 0.34265734265734266,\n",
              "   'p': 0.8448275862068966,\n",
              "   'f': 0.4875621849488874},\n",
              "  'rouge-2': {'r': 0.2358490566037736,\n",
              "   'p': 0.6756756756756757,\n",
              "   'f': 0.34965034581446525},\n",
              "  'rouge-l': {'r': 0.3356643356643357,\n",
              "   'p': 0.8275862068965517,\n",
              "   'f': 0.4776119361926685}}]"
            ]
          },
          "metadata": {},
          "execution_count": 61
        }
      ]
    }
  ]
}